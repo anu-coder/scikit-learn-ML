{
 "cells": [
  {
   "cell_type": "markdown",
   "id": "50ff4c3a",
   "metadata": {},
   "source": [
    "# Comparing results with baseline and chance level\n",
    "\n",
    "In this notebook, we present how to compare the statistical performance of a\n",
    "model to a minimal baseline.\n",
    "\n",
    "Indeed, in the previous notebook, we compared the testing error by\n",
    "taking into account the target distribution. A good practice is to compare\n",
    "the testing error with a dummy baseline and the chance level. In\n",
    "regression, we could use the `DummyRegressor` and predict the mean target\n",
    "without using the data. The chance level can be determined by permuting the\n",
    "labels and check the difference of result.\n",
    "\n",
    "Therefore, we will conduct experiment to get the score of a model and the two\n",
    "baselines. We will start by loading the California housing dataset."
   ]
  },
  {
   "cell_type": "markdown",
   "id": "7fb50254",
   "metadata": {},
   "source": [
    "<div class=\"admonition note alert alert-info\">\n",
    "<p class=\"first admonition-title\" style=\"font-weight: bold;\">Note</p>\n",
    "<p class=\"last\">If you want a deeper overview regarding this dataset, you can refer to the\n",
    "Appendix - Datasets description section at the end of this MOOC.</p>\n",
    "</div>"
   ]
  },
  {
   "cell_type": "code",
   "execution_count": 1,
   "id": "6e4450a3",
   "metadata": {},
   "outputs": [],
   "source": [
    "from sklearn.datasets import fetch_california_housing\n",
    "\n",
    "data, target = fetch_california_housing(return_X_y=True, as_frame=True)\n",
    "target *= 100  # rescale the target in k$"
   ]
  },
  {
   "cell_type": "markdown",
   "id": "a8ea990a",
   "metadata": {},
   "source": [
    "Across all evaluations, we will use a `ShuffleSplit` cross-validation."
   ]
  },
  {
   "cell_type": "code",
   "execution_count": 2,
   "id": "84e894ab",
   "metadata": {},
   "outputs": [],
   "source": [
    "from sklearn.model_selection import ShuffleSplit\n",
    "\n",
    "cv = ShuffleSplit(n_splits=30, test_size=0.2, random_state=0)"
   ]
  },
  {
   "cell_type": "markdown",
   "id": "3d9a1937",
   "metadata": {},
   "source": [
    "We will start by running the cross-validation for the decision tree\n",
    "regressor which is our model of interest. Besides, we will store the\n",
    "testing error in a pandas series."
   ]
  },
  {
   "cell_type": "code",
   "execution_count": 3,
   "id": "109cbad8",
   "metadata": {},
   "outputs": [],
   "source": [
    "import pandas as pd\n",
    "from sklearn.tree import DecisionTreeRegressor\n",
    "from sklearn.model_selection import cross_validate\n",
    "\n",
    "regressor = DecisionTreeRegressor()\n",
    "result_regressor = cross_validate(regressor, data, target,\n",
    "                                  cv=cv, scoring=\"neg_mean_absolute_error\",\n",
    "                                  n_jobs=2)\n",
    "\n",
    "errors_regressor = pd.Series(-result_regressor[\"test_score\"],\n",
    "                             name=\"Regressor error\")"
   ]
  },
  {
   "cell_type": "markdown",
   "id": "d15b9040",
   "metadata": {},
   "source": [
    "Then, we will evaluate our first baseline. This baseline is called a dummy\n",
    "regressor. This dummy regressor will always predict the mean target computed\n",
    "on the training. Therefore, the dummy regressor will never use any\n",
    "information regarding the data `data`."
   ]
  },
  {
   "cell_type": "code",
   "execution_count": 4,
   "id": "e563e563",
   "metadata": {},
   "outputs": [],
   "source": [
    "from sklearn.dummy import DummyRegressor\n",
    "\n",
    "dummy = DummyRegressor()\n",
    "result_dummy = cross_validate(dummy, data, target,\n",
    "                              cv=cv, scoring=\"neg_mean_absolute_error\",\n",
    "                              n_jobs=2)\n",
    "errors_dummy = pd.Series(-result_dummy[\"test_score\"], name=\"Dummy error\")"
   ]
  },
  {
   "cell_type": "markdown",
   "id": "b569cb67",
   "metadata": {},
   "source": [
    "Finally, we will evaluate the statistical performance of the second baseline.\n",
    "This baseline will provide the statistical performance of the chance level.\n",
    "Indeed, we will train a decision tree on some training data and evaluate the\n",
    "same tree on data where the target vector has been randomized."
   ]
  },
  {
   "cell_type": "code",
   "execution_count": 5,
   "id": "718ca9c0",
   "metadata": {},
   "outputs": [],
   "source": [
    "from sklearn.model_selection import permutation_test_score\n",
    "\n",
    "regressor = DecisionTreeRegressor()\n",
    "score, permutation_score, pvalue = permutation_test_score(\n",
    "    regressor, data, target, cv=cv, scoring=\"neg_mean_absolute_error\",\n",
    "    n_jobs=2, n_permutations=30)\n",
    "errors_permutation = pd.Series(-permutation_score, name=\"Permuted error\")"
   ]
  },
  {
   "cell_type": "code",
   "execution_count": 8,
   "id": "f9111fc5",
   "metadata": {},
   "outputs": [
    {
     "data": {
      "text/plain": [
       "(0     129.153641\n",
       " 1     129.324126\n",
       " 2     128.596627\n",
       " 3     128.970293\n",
       " 4     128.929405\n",
       " 5     129.191006\n",
       " 6     130.020044\n",
       " 7     128.917737\n",
       " 8     129.241191\n",
       " 9     129.418032\n",
       " 10    129.029009\n",
       " 11    129.781544\n",
       " 12    129.043171\n",
       " 13    129.302142\n",
       " 14    129.451560\n",
       " 15    129.307644\n",
       " 16    128.838954\n",
       " 17    129.107156\n",
       " 18    128.913782\n",
       " 19    129.467570\n",
       " 20    129.236707\n",
       " 21    129.145104\n",
       " 22    128.926467\n",
       " 23    129.637308\n",
       " 24    129.230633\n",
       " 25    129.533070\n",
       " 26    129.428466\n",
       " 27    129.256740\n",
       " 28    129.091987\n",
       " 29    129.321100\n",
       " Name: Permuted error, dtype: float64,\n",
       " 0     90.713153\n",
       " 1     90.539353\n",
       " 2     91.941912\n",
       " 3     90.213912\n",
       " 4     92.015862\n",
       " 5     90.542490\n",
       " 6     89.757566\n",
       " 7     92.477244\n",
       " 8     90.947952\n",
       " 9     91.991373\n",
       " 10    92.023571\n",
       " 11    90.556965\n",
       " 12    91.539567\n",
       " 13    91.185225\n",
       " 14    92.298971\n",
       " 15    91.084639\n",
       " 16    90.984471\n",
       " 17    89.981744\n",
       " 18    90.547140\n",
       " 19    89.820219\n",
       " 20    91.768721\n",
       " 21    92.305556\n",
       " 22    90.503017\n",
       " 23    92.147974\n",
       " 24    91.386320\n",
       " 25    90.815660\n",
       " 26    92.216574\n",
       " 27    90.107460\n",
       " 28    90.620318\n",
       " 29    91.165331\n",
       " Name: Dummy error, dtype: float64)"
      ]
     },
     "execution_count": 8,
     "metadata": {},
     "output_type": "execute_result"
    }
   ],
   "source": [
    "(errors_permutation, errors_dummy)"
   ]
  },
  {
   "cell_type": "markdown",
   "id": "ecc417ef",
   "metadata": {},
   "source": [
    "Finally, we plot the testing errors for the two baselines and the\n",
    "actual regressor."
   ]
  },
  {
   "cell_type": "code",
   "execution_count": 9,
   "id": "b79fde65",
   "metadata": {},
   "outputs": [],
   "source": [
    "final_errors = pd.concat([errors_regressor, errors_dummy, errors_permutation],\n",
    "                         axis=1)"
   ]
  },
  {
   "cell_type": "code",
   "execution_count": 10,
   "id": "6dca35d5",
   "metadata": {},
   "outputs": [
    {
     "data": {
      "image/png": "[encoded data removed]",
      "text/plain": [
       "<Figure size 432x288 with 1 Axes>"
      ]
     },
     "metadata": {
      "needs_background": "light"
     },
     "output_type": "display_data"
    }
   ],
   "source": [
    "import matplotlib.pyplot as plt\n",
    "\n",
    "final_errors.plot.hist(bins=50, density=True, edgecolor=\"black\")\n",
    "plt.legend(bbox_to_anchor=(1.05, 0.8), loc=\"upper left\")\n",
    "plt.xlabel(\"Mean absolute error (k$)\")\n",
    "_ = plt.title(\"Distribution of the testing errors\")"
   ]
  },
  {
   "cell_type": "markdown",
   "id": "f63334b1",
   "metadata": {},
   "source": [
    "We see that even if the statistical performance of our model is far from\n",
    "being good, it is better than the two baselines. Besides, we see that the\n",
    "dummy regressor is better than a chance level regressor.\n",
    "\n",
    "In practice, using a dummy regressor might be sufficient as a baseline.\n",
    "Indeed, to obtain a reliable estimate the permutation of the target should\n",
    "be repeated and thus this method is costly. However, it gives the true\n",
    "chance level."
   ]
  }
 ],
 "metadata": {
  "jupytext": {
   "cell_metadata_filter": "-all",
   "main_language": "python",
   "notebook_metadata_filter": "-all"
  },
  "kernelspec": {
   "display_name": "Python 3",
   "language": "python",
   "name": "python3"
  },
  "language_info": {
   "codemirror_mode": {
    "name": "ipython",
    "version": 3
   },
   "file_extension": ".py",
   "mimetype": "text/x-python",
   "name": "python",
   "nbconvert_exporter": "python",
   "pygments_lexer": "ipython3",
   "version": "3.9.2"
  },
  "nbreset": "https://github.com/INRIA/scikit-learn-mooc/raw/master/notebooks/cross_validation_baseline.ipynb"
 },
 "nbformat": 4,
 "nbformat_minor": 5
}
