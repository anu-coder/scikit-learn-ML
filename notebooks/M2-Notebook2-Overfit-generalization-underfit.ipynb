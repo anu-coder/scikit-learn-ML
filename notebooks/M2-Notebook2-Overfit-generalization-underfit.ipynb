{
 "cells": [
  {
   "cell_type": "markdown",
   "id": "a4e07462",
   "metadata": {},
   "source": [
    "# Overfit-generalization-underfit\n",
    "\n",
    "In the previous notebook, we presented the general cross-validation framework\n",
    "and how it helps us quantify the training and testing errors as well\n",
    "as their fluctuations.\n",
    "\n",
    "In this notebook, we will put these two errors into perspective and show how\n",
    "they can help us know if our model generalizes, overfit, or underfit.\n",
    "\n",
    "Let's first load the data and create the same model as in the previous\n",
    "notebook."
   ]
  },
  {
   "cell_type": "code",
   "execution_count": 1,
   "id": "5e129d5f",
   "metadata": {},
   "outputs": [],
   "source": [
    "from sklearn.datasets import fetch_california_housing"
   ]
  },
  {
   "cell_type": "code",
   "execution_count": 2,
   "id": "338376c9",
   "metadata": {},
   "outputs": [],
   "source": [
    "housing = fetch_california_housing(as_frame=True)\n",
    "data, target = housing.data, housing.target\n",
    "target *=100 # rescaling the target into thousands"
   ]
  },
  {
   "cell_type": "markdown",
   "id": "26635a4b",
   "metadata": {},
   "source": [
    "<div class=\"admonition note alert alert-info\">\n",
    "<p class=\"first admonition-title\" style=\"font-weight: bold;\">Note</p>\n",
    "<p class=\"last\">If you want a deeper overview regarding this dataset, you can refer to the\n",
    "Appendix - Datasets description section at the end of this MOOC.</p>\n",
    "</div>"
   ]
  },
  {
   "cell_type": "code",
   "execution_count": 3,
   "id": "3bb626d1",
   "metadata": {},
   "outputs": [],
   "source": [
    "from sklearn.tree import DecisionTreeRegressor\n",
    "regressor = DecisionTreeRegressor()"
   ]
  },
  {
   "cell_type": "markdown",
   "id": "58a21850",
   "metadata": {},
   "source": [
    "## Overfitting vs. underfitting\n",
    "\n",
    "To better understand the statistical performance of our model and maybe find\n",
    "insights on how to improve it, we will compare the testing error with the\n",
    "training error. Thus, we need to compute the error on the training set,\n",
    "which is possible using the `cross_validate` function."
   ]
  },
  {
   "cell_type": "code",
   "execution_count": 4,
   "id": "6af313dd",
   "metadata": {},
   "outputs": [],
   "source": [
    "import pandas as pd\n",
    "from sklearn.model_selection import cross_validate, ShuffleSplit\n",
    "\n",
    "cv = ShuffleSplit(n_splits = 30, test_size=0.2)\n",
    "cv_results = cross_validate(regressor, data, target,\n",
    "                           cv=cv, scoring= 'neg_mean_absolute_error',\n",
    "                           return_train_score=True, n_jobs=2)\n",
    "cv_results = pd.DataFrame(cv_results)"
   ]
  },
  {
   "cell_type": "markdown",
   "id": "6262ff3a",
   "metadata": {},
   "source": [
    "The cross-validation used the negative mean absolute error. We transform\n",
    "the negative mean absolute error into a positive mean absolute error."
   ]
  },
  {
   "cell_type": "code",
   "execution_count": 7,
   "id": "4d719b59",
   "metadata": {},
   "outputs": [
    {
     "data": {
      "text/html": [
       "<div>\n",
       "<style scoped>\n",
       "    .dataframe tbody tr th:only-of-type {\n",
       "        vertical-align: middle;\n",
       "    }\n",
       "\n",
       "    .dataframe tbody tr th {\n",
       "        vertical-align: top;\n",
       "    }\n",
       "\n",
       "    .dataframe thead th {\n",
       "        text-align: right;\n",
       "    }\n",
       "</style>\n",
       "<table border=\"1\" class=\"dataframe\">\n",
       "  <thead>\n",
       "    <tr style=\"text-align: right;\">\n",
       "      <th></th>\n",
       "      <th>train error</th>\n",
       "      <th>test error</th>\n",
       "    </tr>\n",
       "  </thead>\n",
       "  <tbody>\n",
       "    <tr>\n",
       "      <th>0</th>\n",
       "      <td>1.518854e-14</td>\n",
       "      <td>46.344906</td>\n",
       "    </tr>\n",
       "    <tr>\n",
       "      <th>1</th>\n",
       "      <td>3.380586e-15</td>\n",
       "      <td>46.473997</td>\n",
       "    </tr>\n",
       "    <tr>\n",
       "      <th>2</th>\n",
       "      <td>3.625007e-15</td>\n",
       "      <td>46.131266</td>\n",
       "    </tr>\n",
       "    <tr>\n",
       "      <th>3</th>\n",
       "      <td>7.745742e-15</td>\n",
       "      <td>46.560342</td>\n",
       "    </tr>\n",
       "    <tr>\n",
       "      <th>4</th>\n",
       "      <td>1.313334e-14</td>\n",
       "      <td>44.798364</td>\n",
       "    </tr>\n",
       "    <tr>\n",
       "      <th>5</th>\n",
       "      <td>7.112312e-15</td>\n",
       "      <td>46.421410</td>\n",
       "    </tr>\n",
       "    <tr>\n",
       "      <th>6</th>\n",
       "      <td>1.248958e-14</td>\n",
       "      <td>46.608785</td>\n",
       "    </tr>\n",
       "    <tr>\n",
       "      <th>7</th>\n",
       "      <td>1.447937e-14</td>\n",
       "      <td>44.813874</td>\n",
       "    </tr>\n",
       "    <tr>\n",
       "      <th>8</th>\n",
       "      <td>1.440536e-14</td>\n",
       "      <td>46.119372</td>\n",
       "    </tr>\n",
       "    <tr>\n",
       "      <th>9</th>\n",
       "      <td>3.459765e-15</td>\n",
       "      <td>45.785170</td>\n",
       "    </tr>\n",
       "    <tr>\n",
       "      <th>10</th>\n",
       "      <td>1.343284e-14</td>\n",
       "      <td>47.128266</td>\n",
       "    </tr>\n",
       "    <tr>\n",
       "      <th>11</th>\n",
       "      <td>1.585639e-14</td>\n",
       "      <td>45.130078</td>\n",
       "    </tr>\n",
       "    <tr>\n",
       "      <th>12</th>\n",
       "      <td>1.371168e-14</td>\n",
       "      <td>46.541515</td>\n",
       "    </tr>\n",
       "    <tr>\n",
       "      <th>13</th>\n",
       "      <td>1.375644e-14</td>\n",
       "      <td>44.600257</td>\n",
       "    </tr>\n",
       "    <tr>\n",
       "      <th>14</th>\n",
       "      <td>3.483863e-15</td>\n",
       "      <td>46.436280</td>\n",
       "    </tr>\n",
       "    <tr>\n",
       "      <th>15</th>\n",
       "      <td>3.201573e-15</td>\n",
       "      <td>47.696674</td>\n",
       "    </tr>\n",
       "    <tr>\n",
       "      <th>16</th>\n",
       "      <td>9.783733e-15</td>\n",
       "      <td>46.935847</td>\n",
       "    </tr>\n",
       "    <tr>\n",
       "      <th>17</th>\n",
       "      <td>9.143418e-15</td>\n",
       "      <td>45.850188</td>\n",
       "    </tr>\n",
       "    <tr>\n",
       "      <th>18</th>\n",
       "      <td>1.380808e-14</td>\n",
       "      <td>46.260485</td>\n",
       "    </tr>\n",
       "    <tr>\n",
       "      <th>19</th>\n",
       "      <td>1.547771e-14</td>\n",
       "      <td>44.864765</td>\n",
       "    </tr>\n",
       "    <tr>\n",
       "      <th>20</th>\n",
       "      <td>3.890084e-15</td>\n",
       "      <td>47.408545</td>\n",
       "    </tr>\n",
       "    <tr>\n",
       "      <th>21</th>\n",
       "      <td>3.318620e-15</td>\n",
       "      <td>45.995197</td>\n",
       "    </tr>\n",
       "    <tr>\n",
       "      <th>22</th>\n",
       "      <td>1.291301e-14</td>\n",
       "      <td>47.571920</td>\n",
       "    </tr>\n",
       "    <tr>\n",
       "      <th>23</th>\n",
       "      <td>1.230024e-14</td>\n",
       "      <td>45.405904</td>\n",
       "    </tr>\n",
       "    <tr>\n",
       "      <th>24</th>\n",
       "      <td>3.680088e-15</td>\n",
       "      <td>45.383880</td>\n",
       "    </tr>\n",
       "    <tr>\n",
       "      <th>25</th>\n",
       "      <td>3.738611e-15</td>\n",
       "      <td>45.139625</td>\n",
       "    </tr>\n",
       "    <tr>\n",
       "      <th>26</th>\n",
       "      <td>1.562919e-14</td>\n",
       "      <td>45.584388</td>\n",
       "    </tr>\n",
       "    <tr>\n",
       "      <th>27</th>\n",
       "      <td>1.584951e-14</td>\n",
       "      <td>46.698639</td>\n",
       "    </tr>\n",
       "    <tr>\n",
       "      <th>28</th>\n",
       "      <td>3.742054e-15</td>\n",
       "      <td>44.004058</td>\n",
       "    </tr>\n",
       "    <tr>\n",
       "      <th>29</th>\n",
       "      <td>1.127436e-14</td>\n",
       "      <td>48.326033</td>\n",
       "    </tr>\n",
       "  </tbody>\n",
       "</table>\n",
       "</div>"
      ],
      "text/plain": [
       "     train error  test error\n",
       "0   1.518854e-14   46.344906\n",
       "1   3.380586e-15   46.473997\n",
       "2   3.625007e-15   46.131266\n",
       "3   7.745742e-15   46.560342\n",
       "4   1.313334e-14   44.798364\n",
       "5   7.112312e-15   46.421410\n",
       "6   1.248958e-14   46.608785\n",
       "7   1.447937e-14   44.813874\n",
       "8   1.440536e-14   46.119372\n",
       "9   3.459765e-15   45.785170\n",
       "10  1.343284e-14   47.128266\n",
       "11  1.585639e-14   45.130078\n",
       "12  1.371168e-14   46.541515\n",
       "13  1.375644e-14   44.600257\n",
       "14  3.483863e-15   46.436280\n",
       "15  3.201573e-15   47.696674\n",
       "16  9.783733e-15   46.935847\n",
       "17  9.143418e-15   45.850188\n",
       "18  1.380808e-14   46.260485\n",
       "19  1.547771e-14   44.864765\n",
       "20  3.890084e-15   47.408545\n",
       "21  3.318620e-15   45.995197\n",
       "22  1.291301e-14   47.571920\n",
       "23  1.230024e-14   45.405904\n",
       "24  3.680088e-15   45.383880\n",
       "25  3.738611e-15   45.139625\n",
       "26  1.562919e-14   45.584388\n",
       "27  1.584951e-14   46.698639\n",
       "28  3.742054e-15   44.004058\n",
       "29  1.127436e-14   48.326033"
      ]
     },
     "execution_count": 7,
     "metadata": {},
     "output_type": "execute_result"
    }
   ],
   "source": [
    "scores = pd.DataFrame()\n",
    "scores[['train error', 'test error']] = -cv_results[['train_score', 'test_score']]\n",
    "scores"
   ]
  },
  {
   "cell_type": "code",
   "execution_count": 8,
   "id": "38beb7fd",
   "metadata": {},
   "outputs": [
    {
     "data": {
      "image/png": "[encoded data removed]",
      "text/plain": [
       "<Figure size 432x288 with 1 Axes>"
      ]
     },
     "metadata": {
      "needs_background": "light"
     },
     "output_type": "display_data"
    }
   ],
   "source": [
    "import matplotlib.pyplot as plt\n",
    "\n",
    "scores.plot.hist(bins = 50, edgecolor = 'black', density=True)\n",
    "plt.xlabel(\"Mean absolute error in k$\")\n",
    "_ = plt.title('Train and test error distribution via cross validation')"
   ]
  },
  {
   "cell_type": "markdown",
   "id": "b6a88998",
   "metadata": {},
   "source": [
    "By plotting the distribution of the training and testing errors, we\n",
    "get information about whether our model is over-fitting, under-fitting (or\n",
    "both at the same time).\n",
    "\n",
    "Here, we observe a **small training error** (actually zero), meaning that\n",
    "the model is **not under-fitting**: it is flexible enough to capture any\n",
    "variations present in the training set.\n",
    "\n",
    "However the **significantly larger testing error** tells us that the\n",
    "model is **over-fitting**: the model has memorized many variations of the\n",
    "training set that could be considered \"noisy\" because they do not generalize\n",
    "to help us make good prediction on the test set.\n",
    "\n",
    "## Validation curve\n",
    "\n",
    "Some model hyperparameters are usually the key to go from a model that\n",
    "underfits to a model that overfits, hopefully going through a region were we\n",
    "can get a good balance between the two. We can acquire knowledge by plotting\n",
    "a curve called the validation curve. This curve can also be applied to the\n",
    "above experiment and varies the value of a hyperparameter.\n",
    "\n",
    "For the decision tree, the `max_depth` parameter is used to control the\n",
    "tradeoff between under-fitting and over-fitting."
   ]
  },
  {
   "cell_type": "code",
   "execution_count": 9,
   "id": "9747537f",
   "metadata": {},
   "outputs": [
    {
     "name": "stdout",
     "output_type": "stream",
     "text": [
      "Wall time: 11.3 s\n"
     ]
    }
   ],
   "source": [
    "%%time\n",
    "\n",
    "from sklearn.model_selection import validation_curve\n",
    "\n",
    "max_depth = [1,5,10,15,20,25]\n",
    "train_scores, test_scores = validation_curve(\n",
    "            regressor, data, target, param_name='max_depth',\n",
    "            param_range=max_depth, cv=cv, scoring='neg_mean_absolute_error',\n",
    "            n_jobs = 2)\n",
    "train_errors, test_errors = -train_scores, -test_scores"
   ]
  },
  {
   "cell_type": "markdown",
   "id": "6745ed30",
   "metadata": {},
   "source": [
    "Now that we collected the results, we will show the validation curve by\n",
    "plotting the training and testing errors (as well as their deviations)."
   ]
  },
  {
   "cell_type": "code",
   "execution_count": 11,
   "id": "08284fed",
   "metadata": {},
   "outputs": [
    {
     "data": {
      "image/png": "[encoded data removed]",
      "text/plain": [
       "<Figure size 432x288 with 1 Axes>"
      ]
     },
     "metadata": {
      "needs_background": "light"
     },
     "output_type": "display_data"
    }
   ],
   "source": [
    "plt.plot(max_depth, train_errors.mean(axis = 1), label='Training error')\n",
    "plt.plot(max_depth, test_errors.mean(axis=1), label='Testing error')\n",
    "plt.legend()\n",
    "\n",
    "plt.xlabel('Maximum depth of decision tree')\n",
    "plt.ylabel('Mean absolute error (k$)')\n",
    "_ = plt.title('Validation curve for decision tree')"
   ]
  },
  {
   "cell_type": "markdown",
   "id": "8503ed4f",
   "metadata": {},
   "source": [
    "The validation curve can be divided into three areas:\n",
    "\n",
    "- For `max_depth < 10`, the decision tree underfits. The training error and\n",
    "  therefore the testing error are both high. The model is too\n",
    "  constrained and cannot capture much of the variability of the target\n",
    "  variable.\n",
    "\n",
    "- The region around `max_depth = 10` corresponds to the parameter for which\n",
    "  the decision tree generalizes the best. It is flexible enough to capture a\n",
    "  fraction of the variability of the target that generalizes, while not\n",
    "  memorizing all of the noise in the target.\n",
    "\n",
    "- For `max_depth > 10`, the decision tree overfits. The training error\n",
    "  becomes very small, while the testing error increases. In this\n",
    "  region, the models create decisions specifically for noisy samples harming\n",
    "  its ability to generalize to test data.\n",
    "\n",
    "Note that for `max_depth = 10`, the model overfits a bit as there is a gap\n",
    "between the training error and the testing error. It can also\n",
    "potentially underfit also a bit at the same time, because the training error\n",
    "is still far from zero (more than 30 k\\\\$), meaning that the model might\n",
    "still be too constrained to model interesting parts of the data. However, the\n",
    "testing error is minimal, and this is what really matters. This is the\n",
    "best compromise we could reach by just tuning this parameter.\n",
    "\n",
    "Be aware that looking at the mean errors is quite limiting. We should also\n",
    "look at the standard deviation to assess the dispersion of the score. We\n",
    "can repeat the same plot as before but this time, we will add some\n",
    "information to show the standard deviation of the errors as well."
   ]
  },
  {
   "cell_type": "code",
   "execution_count": 12,
   "id": "b640493e",
   "metadata": {},
   "outputs": [
    {
     "data": {
      "image/png": "[encoded data removed]",
      "text/plain": [
       "<Figure size 432x288 with 1 Axes>"
      ]
     },
     "metadata": {
      "needs_background": "light"
     },
     "output_type": "display_data"
    }
   ],
   "source": [
    "plt.errorbar(max_depth, train_errors.mean(axis=1),\n",
    "             yerr=train_errors.std(axis=1), label='Training error')\n",
    "plt.errorbar(max_depth, test_errors.mean(axis=1),\n",
    "             yerr=test_errors.std(axis=1), label='Testing error')\n",
    "plt.legend()\n",
    "\n",
    "plt.xlabel(\"Maximum depth of decision tree\")\n",
    "plt.ylabel(\"Mean absolute error (k$)\")\n",
    "_ = plt.title(\"Validation curve for decision tree\")"
   ]
  },
  {
   "cell_type": "markdown",
   "id": "feaf95e7",
   "metadata": {},
   "source": [
    "We were lucky that the variance of the errors was small compared to their\n",
    "respective values, and therefore the conclusions above are quite clear. This\n",
    "is not necessarily always the case."
   ]
  },
  {
   "cell_type": "markdown",
   "id": "b6cbb479",
   "metadata": {},
   "source": [
    "## Summary:\n",
    "\n",
    "In this notebook, we saw:\n",
    "\n",
    "* how to identify whether a model is generalizing, overfitting, or\n",
    "  underfitting;\n",
    "* how to check influence of a hyperparameter on the tradeoff\n",
    "  underfit/overfit."
   ]
  }
 ],
 "metadata": {
  "kernelspec": {
   "display_name": "Python 3",
   "language": "python",
   "name": "python3"
  },
  "language_info": {
   "codemirror_mode": {
    "name": "ipython",
    "version": 3
   },
   "file_extension": ".py",
   "mimetype": "text/x-python",
   "name": "python",
   "nbconvert_exporter": "python",
   "pygments_lexer": "ipython3",
   "version": "3.9.5"
  }
 },
 "nbformat": 4,
 "nbformat_minor": 5
}
